{
 "cells": [
  {
   "cell_type": "code",
   "execution_count": 1,
   "metadata": {},
   "outputs": [],
   "source": [
    "import os\n",
    "import numpy as np\n",
    "import pandas as pd"
   ]
  },
  {
   "cell_type": "code",
   "execution_count": 2,
   "metadata": {},
   "outputs": [],
   "source": [
    "import sys\n",
    "sys.path.append('../../Python/')\n",
    "from Databases import get_databases_path, get_database"
   ]
  },
  {
   "cell_type": "code",
   "execution_count": 3,
   "metadata": {},
   "outputs": [],
   "source": [
    "def majority_voting(row, ignore_columns):\n",
    "    row_data = row.drop(ignore_columns)\n",
    "    if sum(row_data) > (len(row_data)/2):\n",
    "        return True;\n",
    "    else:\n",
    "        return False;"
   ]
  },
  {
   "cell_type": "code",
   "execution_count": 4,
   "metadata": {},
   "outputs": [],
   "source": [
    "databases_path = '../../Databases/Sinteticas'\n",
    "paths = get_databases_path(databases_path)"
   ]
  },
  {
   "cell_type": "code",
   "execution_count": 5,
   "metadata": {},
   "outputs": [
    {
     "name": "stdout",
     "output_type": "stream",
     "text": [
      "Database ../../Databases/Sinteticas/breast-cancer Majority Voting created\n",
      "Database ../../Databases/Sinteticas/column Majority Voting created\n",
      "Database ../../Databases/Sinteticas/parkinsons Majority Voting created\n",
      "Database ../../Databases/Sinteticas/ionophere Majority Voting created\n",
      "Database ../../Databases/Sinteticas/sentiment-polarity Majority Voting created\n"
     ]
    }
   ],
   "source": [
    "for path in paths:\n",
    "    target_column = ['y']\n",
    "    dataframe = get_database(path, 'database_labels.csv')\n",
    "    result = dataframe[target_column].copy()\n",
    "    result['Z'] = dataframe.apply(lambda row: majority_voting(row, target_column), axis=1)\n",
    "    filename = path + '/database_labels_mv.csv'\n",
    "    result.to_csv(filename, sep=',',index=False)\n",
    "    print('Database ' + path + ' Majority Voting created')"
   ]
  }
 ],
 "metadata": {
  "kernelspec": {
   "display_name": "Python 3",
   "language": "python",
   "name": "python3"
  },
  "language_info": {
   "codemirror_mode": {
    "name": "ipython",
    "version": 3
   },
   "file_extension": ".py",
   "mimetype": "text/x-python",
   "name": "python",
   "nbconvert_exporter": "python",
   "pygments_lexer": "ipython3",
   "version": "3.7.3"
  }
 },
 "nbformat": 4,
 "nbformat_minor": 2
}
