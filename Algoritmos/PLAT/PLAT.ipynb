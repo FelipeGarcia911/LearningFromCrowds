{
 "cells": [
  {
   "cell_type": "code",
   "execution_count": 1,
   "metadata": {},
   "outputs": [],
   "source": [
    "import os\n",
    "import numpy as np\n",
    "import pandas as pd\n",
    "from collections import defaultdict"
   ]
  },
  {
   "cell_type": "code",
   "execution_count": 2,
   "metadata": {},
   "outputs": [],
   "source": [
    "import sys\n",
    "sys.path.append('../../Python/')\n",
    "from Preprocessing import standardize\n",
    "from Evaluation import split_train_test_ma, train_model, test_model\n",
    "from Databases import get_databases_path, get_database"
   ]
  },
  {
   "cell_type": "code",
   "execution_count": 3,
   "metadata": {},
   "outputs": [],
   "source": [
    "def diff1(l, s, Nfre, N):\n",
    "    epsilon = (0.03*N)/Nfre\n",
    "    return (l-s) < epsilon \n",
    "\n",
    "def estimateThreshold(Freq_Table, Nfre, Frepos, N):\n",
    "    maximaset = [1]\n",
    "    minimaset = [1]\n",
    "                \n",
    "    table_keys = list(Freq_Table.keys())\n",
    "    for idx in range(1, len(table_keys)-1):\n",
    "        a = Freq_Table[table_keys[idx]]['Count'] - Freq_Table[table_keys[idx-1]]['Count'] \n",
    "        b = Freq_Table[table_keys[idx+1]]['Count'] - Freq_Table[table_keys[idx]]['Count'] \n",
    "        \n",
    "        c1 = diff1(Frepos[idx], Frepos[(minimaset[-1])], Nfre, N)\n",
    "        if a >=0 and b<=0 and c1:\n",
    "            maximaset.append(idx)\n",
    "        \n",
    "        c2 = diff1(Frepos[(maximaset[-1])], Frepos[idx], Nfre, N)\n",
    "        if a <=0 and b>=0 and c2:\n",
    "            minimaset.append(idx)\n",
    "    \n",
    "    # Primer Bloque\n",
    "    aux = np.zeros(len(maximaset))\n",
    "    for idx in range(0, len(maximaset)):\n",
    "        index = maximaset[idx]\n",
    "        if Frepos[index] < 0.5:\n",
    "            aux[idx] = Freq_Table[str(Frepos[index])]['Count']\n",
    "        else: \n",
    "            aux[idx] = 0;\n",
    "    \n",
    "    if aux.sum() == 0:\n",
    "        P1 = []\n",
    "    else:\n",
    "        amax = np.argmax(aux)\n",
    "        P1 = maximaset[amax]\n",
    "        fP1 = Frepos[P1]\n",
    "     \n",
    "    # Segundo Bloque\n",
    "    aux = np.zeros(len(maximaset))\n",
    "    for idx in range(0, len(maximaset)):\n",
    "        index = maximaset[idx]\n",
    "        if Frepos[index] > fP1:\n",
    "            aux[idx] = Freq_Table[str(Frepos[index])]['Count']\n",
    "        else: \n",
    "            aux[idx] = 0;\n",
    "\n",
    "    if aux.sum() == 0:\n",
    "        P2 = []\n",
    "    else:\n",
    "        amax = np.argmax(aux)\n",
    "        P2 = maximaset[amax]\n",
    "        fP2 = Frepos[P2]\n",
    "        \n",
    "\n",
    "    if P1 is not None and P2 is not None:\n",
    "        if not minimaset:\n",
    "            valley = [];\n",
    "        else:\n",
    "            aux = np.zeros(len(minimaset))\n",
    "            for idx in range(0, len(minimaset)):\n",
    "                index = minimaset[idx]\n",
    "                if Frepos[index] > fP1 and Frepos[index] < fP2: \n",
    "                    aux[idx] = Freq_Table[str(Frepos[index])]['Count']\n",
    "                else: \n",
    "                    aux[idx] = 0\n",
    "            \n",
    "            if aux.sum() == 0:\n",
    "                valley = []\n",
    "            else:\n",
    "                amax = np.argmax(aux)\n",
    "                valley = maximaset[amax]\n",
    "                fvalley = Frepos[valley]\n",
    "    else:\n",
    "        valley = [];\n",
    "        \n",
    "    if not valley:\n",
    "        t = P1\n",
    "    else:\n",
    "        t = valley\n",
    "    \n",
    "    Nl = 0\n",
    "    for idx in range(0,t):\n",
    "        Nl += Freq_Table[table_keys[idx]]['Count']\n",
    "\n",
    "    while Nl < N/2:\n",
    "        t += 1;\n",
    "        Nl += Freq_Table[table_keys[t]]['Count']\n",
    "    Nr = N - Nl\n",
    "    return t, Nl, Nr"
   ]
  },
  {
   "cell_type": "code",
   "execution_count": 12,
   "metadata": {},
   "outputs": [],
   "source": [
    "databases_path = '../../Databases/Sinteticas'\n",
    "paths = get_databases_path(databases_path)"
   ]
  },
  {
   "cell_type": "code",
   "execution_count": 13,
   "metadata": {},
   "outputs": [],
   "source": [
    "# Obtain the attributes and labels\n",
    "attr_df = get_database(paths[0], 'database_attr.csv')\n",
    "labels_df = get_database(paths[0], 'database_labels.csv')"
   ]
  },
  {
   "cell_type": "code",
   "execution_count": 14,
   "metadata": {},
   "outputs": [],
   "source": [
    "# Preprocessing the attributes\n",
    "standardized_attr_df = standardize(attr_df)"
   ]
  },
  {
   "cell_type": "code",
   "execution_count": 15,
   "metadata": {},
   "outputs": [],
   "source": [
    "# Split in Training and Test Sets\n",
    "X_train, X_test, y_train, y_test = split_train_test_ma(standardized_attr_df, labels_df)"
   ]
  },
  {
   "cell_type": "code",
   "execution_count": 16,
   "metadata": {},
   "outputs": [],
   "source": [
    "R = y_train.columns.size\n",
    "N = y_train.shape[0]\n",
    "\n",
    "step = 1/R\n",
    "Frepos = np.arange(0, 1+step, step)\n",
    "Nfre = len(Frepos)"
   ]
  },
  {
   "cell_type": "code",
   "execution_count": 17,
   "metadata": {},
   "outputs": [],
   "source": [
    "Freq_Table = {}\n",
    "for key in Frepos:\n",
    "    index = str(round(key,1))\n",
    "    Freq_Table[index] = {}\n",
    "    Freq_Table[index]['Count'] = 0\n",
    "    Freq_Table[index]['Items'] = []\n",
    "    Freq_Table[index]['Cat'] = 0\n",
    "table_keys = list(Freq_Table.keys())"
   ]
  },
  {
   "cell_type": "code",
   "execution_count": 18,
   "metadata": {},
   "outputs": [],
   "source": [
    "for idx, row in y_train.iterrows():\n",
    "    fi = round(row[row == True].sum()/R,1)\n",
    "    index = str(round(fi,1))\n",
    "    Freq_Table[index]['Count'] += 1\n",
    "    Freq_Table[index]['Items'].append(idx)"
   ]
  },
  {
   "cell_type": "code",
   "execution_count": 19,
   "metadata": {},
   "outputs": [],
   "source": [
    "t, Nl, Nr = estimateThreshold(Freq_Table, Nfre, Frepos, N)"
   ]
  },
  {
   "cell_type": "code",
   "execution_count": 20,
   "metadata": {},
   "outputs": [],
   "source": [
    "Pmax = (Nl - Nr)*Nr/(Nl + Nr) + Nr;\n",
    "k = Nfre-1;\n",
    "Np = 0;\n",
    "while k > t:\n",
    "    Freq_Table[table_keys[k]]['Cat'] = 1;\n",
    "    Np += Freq_Table[table_keys[k]]['Count']\n",
    "    k -= 1"
   ]
  },
  {
   "cell_type": "code",
   "execution_count": 21,
   "metadata": {},
   "outputs": [],
   "source": [
    "fm = (Frepos[0] + Frepos[t])*0.5\n",
    "k = t\n",
    "while (Frepos[k] > fm) and (Np + Freq_Table[table_keys[k]]['Count'] < Pmax):\n",
    "    Freq_Table[table_keys[k]]['Cat'] = 1\n",
    "    Np += Freq_Table[table_keys[k]]['Count']\n",
    "    k -= 1"
   ]
  },
  {
   "cell_type": "code",
   "execution_count": 22,
   "metadata": {},
   "outputs": [],
   "source": [
    "hatY = np.zeros((N,1))\n",
    "for idx in range(0,Nfre):\n",
    "    aux = Freq_Table[table_keys[idx]]['Items'];\n",
    "    y_train.loc[aux, 'yHat'] = Freq_Table[table_keys[idx]]['Cat']\n",
    "yHat = y_train[['yHat']].astype('bool')"
   ]
  },
  {
   "cell_type": "code",
   "execution_count": 23,
   "metadata": {},
   "outputs": [],
   "source": [
    "model= train_model(X_train, yHat)"
   ]
  },
  {
   "cell_type": "code",
   "execution_count": 24,
   "metadata": {},
   "outputs": [
    {
     "name": "stdout",
     "output_type": "stream",
     "text": [
      "Global Precision:\n",
      "0.8654970760233918\n",
      "\n",
      "\n",
      "General Report:\n",
      "              precision    recall  f1-score   support\n",
      "\n",
      "         yes       0.88      0.91      0.89       108\n",
      "          no       0.83      0.79      0.81        63\n",
      "\n",
      "    accuracy                           0.87       171\n",
      "   macro avg       0.86      0.85      0.85       171\n",
      "weighted avg       0.86      0.87      0.86       171\n",
      "\n",
      "\n",
      "\n",
      "Confusion Matrix: \n",
      "    0   1\n",
      "0  98  10\n",
      "1  13  50\n"
     ]
    }
   ],
   "source": [
    "test_model(model, X_test, y_test)"
   ]
  }
 ],
 "metadata": {
  "kernelspec": {
   "display_name": "Python 3",
   "language": "python",
   "name": "python3"
  },
  "language_info": {
   "codemirror_mode": {
    "name": "ipython",
    "version": 3
   },
   "file_extension": ".py",
   "mimetype": "text/x-python",
   "name": "python",
   "nbconvert_exporter": "python",
   "pygments_lexer": "ipython3",
   "version": "3.7.3"
  }
 },
 "nbformat": 4,
 "nbformat_minor": 2
}
